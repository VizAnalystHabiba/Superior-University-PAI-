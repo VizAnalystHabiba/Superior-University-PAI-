{
 "cells": [
  {
   "cell_type": "code",
   "execution_count": 1,
   "metadata": {},
   "outputs": [
    {
     "name": "stdout",
     "output_type": "stream",
     "text": [
      "Number of solutions: 4\n",
      ". Q . . . .\n",
      ". . . Q . .\n",
      ". . . . . Q\n",
      "Q . . . . .\n",
      ". . Q . . .\n",
      ". . . . Q .\n",
      "\n",
      "\n",
      ". . Q . . .\n",
      ". . . . . Q\n",
      ". Q . . . .\n",
      ". . . . Q .\n",
      "Q . . . . .\n",
      ". . . Q . .\n",
      "\n",
      "\n",
      ". . . Q . .\n",
      "Q . . . . .\n",
      ". . . . Q .\n",
      ". Q . . . .\n",
      ". . . . . Q\n",
      ". . Q . . .\n",
      "\n",
      "\n",
      ". . . . Q .\n",
      ". . Q . . .\n",
      "Q . . . . .\n",
      ". . . . . Q\n",
      ". . . Q . .\n",
      ". Q . . . .\n",
      "\n",
      "\n"
     ]
    }
   ],
   "source": [
    "def is_valid(diagonal, row, col):\n",
    "    # Check this column on the left side\n",
    "    for i in range(row):\n",
    "        if diagonal[i] == col or \\\n",
    "           diagonal[i] - i == col - row or \\\n",
    "           diagonal[i] + i == col + row:\n",
    "            return False\n",
    "    return True\n",
    "\n",
    "def solve_n_queens(n):\n",
    "    def solve(row, diagonal):\n",
    "        if row == n:\n",
    "            result.append(diagonal[:])\n",
    "            return\n",
    "        for col in range(n):\n",
    "            if is_valid(diagonal, row, col):\n",
    "                diagonal[row] = col\n",
    "                solve(row + 1, diagonal)\n",
    "                diagonal[row] = -1\n",
    "\n",
    "    result = []\n",
    "    diagonal = [-1] * n\n",
    "    solve(0, diagonal)\n",
    "    return result\n",
    "\n",
    "def print_solution(solutions):\n",
    "    for solution in solutions:\n",
    "        for i in range(len(solution)):\n",
    "            row = ['.'] * len(solution)\n",
    "            row[solution[i]] = 'Q'\n",
    "            print(\" \".join(row))\n",
    "        print(\"\\n\")\n",
    "\n",
    "N = 6\n",
    "solutions = solve_n_queens(N)\n",
    "print(f\"Number of solutions: {len(solutions)}\")\n",
    "print_solution(solutions)\n"
   ]
  },
  {
   "cell_type": "code",
   "execution_count": null,
   "metadata": {},
   "outputs": [],
   "source": []
  }
 ],
 "metadata": {
  "kernelspec": {
   "display_name": "Python 3",
   "language": "python",
   "name": "python3"
  },
  "language_info": {
   "codemirror_mode": {
    "name": "ipython",
    "version": 3
   },
   "file_extension": ".py",
   "mimetype": "text/x-python",
   "name": "python",
   "nbconvert_exporter": "python",
   "pygments_lexer": "ipython3",
   "version": "3.12.6"
  }
 },
 "nbformat": 4,
 "nbformat_minor": 2
}
