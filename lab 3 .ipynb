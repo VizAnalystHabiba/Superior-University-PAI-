{
 "cells": [
  {
   "cell_type": "code",
   "execution_count": 8,
   "metadata": {},
   "outputs": [
    {
     "name": "stdout",
     "output_type": "stream",
     "text": [
      "Solution Found\n",
      "(0, 0)\n",
      "(0, 3)\n",
      "(3, 0)\n",
      "(3, 3)\n",
      "(4, 2)\n"
     ]
    },
    {
     "data": {
      "text/plain": [
       "True"
      ]
     },
     "execution_count": 8,
     "metadata": {},
     "output_type": "execute_result"
    }
   ],
   "source": [
    "def dfs(m, n, d):\n",
    "    stack = [(0, 0)]\n",
    "    visited = set()\n",
    "    actions = []\n",
    "\n",
    "    while stack:\n",
    "        jug_1, jug_2 = stack.pop()\n",
    "        actions.append((jug_1, jug_2))\n",
    "\n",
    "        if jug_1 == d or jug_2 == d:\n",
    "            print(\"Solution Found\")\n",
    "            for action in actions:\n",
    "                print(action)\n",
    "            return True\n",
    "\n",
    "        visited.add((jug_1, jug_2))\n",
    "\n",
    "        states = [\n",
    "            (m, jug_2),  \n",
    "            (jug_1, n), \n",
    "            (0, jug_2),  \n",
    "            (jug_1, 0), \n",
    "            (jug_1 - min(jug_1, n - jug_2), jug_2 + min(jug_1, n - jug_2)),  # 5: Pour Jug1 into Jug2\n",
    "            (jug_1 + min(jug_2, m - jug_1), jug_2 - min(jug_2, m - jug_1)),  # 6: Pour Jug2 into Jug1\n",
    "        ]\n",
    "\n",
    "        for state in states:\n",
    "            if state not in visited:\n",
    "                stack.append(state)\n",
    "\n",
    "    print(\"No Solution Found\")\n",
    "    return False\n",
    "\n",
    "jug_1_capacity = 4\n",
    "jug_2_capacity = 3\n",
    "target = 4\n",
    "\n",
    "dfs(jug_1_capacity, jug_2_capacity, target)\n"
   ]
  }
 ],
 "metadata": {
  "kernelspec": {
   "display_name": "Python 3",
   "language": "python",
   "name": "python3"
  },
  "language_info": {
   "codemirror_mode": {
    "name": "ipython",
    "version": 3
   },
   "file_extension": ".py",
   "mimetype": "text/x-python",
   "name": "python",
   "nbconvert_exporter": "python",
   "pygments_lexer": "ipython3",
   "version": "3.12.6"
  }
 },
 "nbformat": 4,
 "nbformat_minor": 2
}
