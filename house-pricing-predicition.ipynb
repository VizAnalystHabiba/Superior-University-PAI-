{
 "cells": [
  {
   "cell_type": "code",
   "execution_count": 1,
   "id": "8f6c026b",
   "metadata": {
    "_cell_guid": "b1076dfc-b9ad-4769-8c92-a6c4dae69d19",
    "_uuid": "8f2839f25d086af736a60e9eeb907d3b93b6e0e5",
    "execution": {
     "iopub.execute_input": "2025-01-27T04:54:47.833940Z",
     "iopub.status.busy": "2025-01-27T04:54:47.833487Z",
     "iopub.status.idle": "2025-01-27T04:54:48.769665Z",
     "shell.execute_reply": "2025-01-27T04:54:48.768340Z"
    },
    "papermill": {
     "duration": 0.94439,
     "end_time": "2025-01-27T04:54:48.771493",
     "exception": false,
     "start_time": "2025-01-27T04:54:47.827103",
     "status": "completed"
    },
    "tags": []
   },
   "outputs": [
    {
     "name": "stdout",
     "output_type": "stream",
     "text": [
      "/kaggle/input/home-data-for-ml-course/sample_submission.csv\n",
      "/kaggle/input/home-data-for-ml-course/sample_submission.csv.gz\n",
      "/kaggle/input/home-data-for-ml-course/train.csv.gz\n",
      "/kaggle/input/home-data-for-ml-course/data_description.txt\n",
      "/kaggle/input/home-data-for-ml-course/test.csv.gz\n",
      "/kaggle/input/home-data-for-ml-course/train.csv\n",
      "/kaggle/input/home-data-for-ml-course/test.csv\n"
     ]
    }
   ],
   "source": [
    "# This Python 3 environment comes with many helpful analytics libraries installed\n",
    "# It is defined by the kaggle/python Docker image: https://github.com/kaggle/docker-python\n",
    "# For example, here's several helpful packages to load\n",
    "\n",
    "import pandas as pd\n",
    "import numpy as np\n",
    "# Input data files are available in the read-only \"../input/\" directory\n",
    "# For example, running this (by clicking run or pressing Shift+Enter) will list all files under the input directory\n",
    "\n",
    "import os\n",
    "for dirname, _, filenames in os.walk('/kaggle/input'):\n",
    "    for filename in filenames:\n",
    "        print(os.path.join(dirname, filename))\n",
    "\n",
    "# You can write up to 20GB to the current directory (/kaggle/working/) that gets preserved as output when you create a version using \"Save & Run All\" \n",
    "# You can also write temporary files to /kaggle/temp/, but they won't be saved outside of the current session"
   ]
  },
  {
   "cell_type": "code",
   "execution_count": 2,
   "id": "a4f5a3f0",
   "metadata": {
    "execution": {
     "iopub.execute_input": "2025-01-27T04:54:48.782046Z",
     "iopub.status.busy": "2025-01-27T04:54:48.781528Z",
     "iopub.status.idle": "2025-01-27T04:54:48.824500Z",
     "shell.execute_reply": "2025-01-27T04:54:48.823335Z"
    },
    "papermill": {
     "duration": 0.05024,
     "end_time": "2025-01-27T04:54:48.826432",
     "exception": false,
     "start_time": "2025-01-27T04:54:48.776192",
     "status": "completed"
    },
    "tags": []
   },
   "outputs": [],
   "source": [
    "df=pd.read_csv('/kaggle/input/home-data-for-ml-course/train.csv')"
   ]
  },
  {
   "cell_type": "code",
   "execution_count": 3,
   "id": "ba69bbe5",
   "metadata": {
    "execution": {
     "iopub.execute_input": "2025-01-27T04:54:48.836828Z",
     "iopub.status.busy": "2025-01-27T04:54:48.836469Z",
     "iopub.status.idle": "2025-01-27T04:54:48.872518Z",
     "shell.execute_reply": "2025-01-27T04:54:48.871453Z"
    },
    "papermill": {
     "duration": 0.04346,
     "end_time": "2025-01-27T04:54:48.874394",
     "exception": false,
     "start_time": "2025-01-27T04:54:48.830934",
     "status": "completed"
    },
    "tags": []
   },
   "outputs": [
    {
     "data": {
      "text/html": [
       "<div>\n",
       "<style scoped>\n",
       "    .dataframe tbody tr th:only-of-type {\n",
       "        vertical-align: middle;\n",
       "    }\n",
       "\n",
       "    .dataframe tbody tr th {\n",
       "        vertical-align: top;\n",
       "    }\n",
       "\n",
       "    .dataframe thead th {\n",
       "        text-align: right;\n",
       "    }\n",
       "</style>\n",
       "<table border=\"1\" class=\"dataframe\">\n",
       "  <thead>\n",
       "    <tr style=\"text-align: right;\">\n",
       "      <th></th>\n",
       "      <th>Id</th>\n",
       "      <th>MSSubClass</th>\n",
       "      <th>MSZoning</th>\n",
       "      <th>LotFrontage</th>\n",
       "      <th>LotArea</th>\n",
       "      <th>Street</th>\n",
       "      <th>Alley</th>\n",
       "      <th>LotShape</th>\n",
       "      <th>LandContour</th>\n",
       "      <th>Utilities</th>\n",
       "      <th>...</th>\n",
       "      <th>PoolArea</th>\n",
       "      <th>PoolQC</th>\n",
       "      <th>Fence</th>\n",
       "      <th>MiscFeature</th>\n",
       "      <th>MiscVal</th>\n",
       "      <th>MoSold</th>\n",
       "      <th>YrSold</th>\n",
       "      <th>SaleType</th>\n",
       "      <th>SaleCondition</th>\n",
       "      <th>SalePrice</th>\n",
       "    </tr>\n",
       "  </thead>\n",
       "  <tbody>\n",
       "    <tr>\n",
       "      <th>0</th>\n",
       "      <td>1</td>\n",
       "      <td>60</td>\n",
       "      <td>RL</td>\n",
       "      <td>65.0</td>\n",
       "      <td>8450</td>\n",
       "      <td>Pave</td>\n",
       "      <td>NaN</td>\n",
       "      <td>Reg</td>\n",
       "      <td>Lvl</td>\n",
       "      <td>AllPub</td>\n",
       "      <td>...</td>\n",
       "      <td>0</td>\n",
       "      <td>NaN</td>\n",
       "      <td>NaN</td>\n",
       "      <td>NaN</td>\n",
       "      <td>0</td>\n",
       "      <td>2</td>\n",
       "      <td>2008</td>\n",
       "      <td>WD</td>\n",
       "      <td>Normal</td>\n",
       "      <td>208500</td>\n",
       "    </tr>\n",
       "    <tr>\n",
       "      <th>1</th>\n",
       "      <td>2</td>\n",
       "      <td>20</td>\n",
       "      <td>RL</td>\n",
       "      <td>80.0</td>\n",
       "      <td>9600</td>\n",
       "      <td>Pave</td>\n",
       "      <td>NaN</td>\n",
       "      <td>Reg</td>\n",
       "      <td>Lvl</td>\n",
       "      <td>AllPub</td>\n",
       "      <td>...</td>\n",
       "      <td>0</td>\n",
       "      <td>NaN</td>\n",
       "      <td>NaN</td>\n",
       "      <td>NaN</td>\n",
       "      <td>0</td>\n",
       "      <td>5</td>\n",
       "      <td>2007</td>\n",
       "      <td>WD</td>\n",
       "      <td>Normal</td>\n",
       "      <td>181500</td>\n",
       "    </tr>\n",
       "    <tr>\n",
       "      <th>2</th>\n",
       "      <td>3</td>\n",
       "      <td>60</td>\n",
       "      <td>RL</td>\n",
       "      <td>68.0</td>\n",
       "      <td>11250</td>\n",
       "      <td>Pave</td>\n",
       "      <td>NaN</td>\n",
       "      <td>IR1</td>\n",
       "      <td>Lvl</td>\n",
       "      <td>AllPub</td>\n",
       "      <td>...</td>\n",
       "      <td>0</td>\n",
       "      <td>NaN</td>\n",
       "      <td>NaN</td>\n",
       "      <td>NaN</td>\n",
       "      <td>0</td>\n",
       "      <td>9</td>\n",
       "      <td>2008</td>\n",
       "      <td>WD</td>\n",
       "      <td>Normal</td>\n",
       "      <td>223500</td>\n",
       "    </tr>\n",
       "    <tr>\n",
       "      <th>3</th>\n",
       "      <td>4</td>\n",
       "      <td>70</td>\n",
       "      <td>RL</td>\n",
       "      <td>60.0</td>\n",
       "      <td>9550</td>\n",
       "      <td>Pave</td>\n",
       "      <td>NaN</td>\n",
       "      <td>IR1</td>\n",
       "      <td>Lvl</td>\n",
       "      <td>AllPub</td>\n",
       "      <td>...</td>\n",
       "      <td>0</td>\n",
       "      <td>NaN</td>\n",
       "      <td>NaN</td>\n",
       "      <td>NaN</td>\n",
       "      <td>0</td>\n",
       "      <td>2</td>\n",
       "      <td>2006</td>\n",
       "      <td>WD</td>\n",
       "      <td>Abnorml</td>\n",
       "      <td>140000</td>\n",
       "    </tr>\n",
       "    <tr>\n",
       "      <th>4</th>\n",
       "      <td>5</td>\n",
       "      <td>60</td>\n",
       "      <td>RL</td>\n",
       "      <td>84.0</td>\n",
       "      <td>14260</td>\n",
       "      <td>Pave</td>\n",
       "      <td>NaN</td>\n",
       "      <td>IR1</td>\n",
       "      <td>Lvl</td>\n",
       "      <td>AllPub</td>\n",
       "      <td>...</td>\n",
       "      <td>0</td>\n",
       "      <td>NaN</td>\n",
       "      <td>NaN</td>\n",
       "      <td>NaN</td>\n",
       "      <td>0</td>\n",
       "      <td>12</td>\n",
       "      <td>2008</td>\n",
       "      <td>WD</td>\n",
       "      <td>Normal</td>\n",
       "      <td>250000</td>\n",
       "    </tr>\n",
       "  </tbody>\n",
       "</table>\n",
       "<p>5 rows × 81 columns</p>\n",
       "</div>"
      ],
      "text/plain": [
       "   Id  MSSubClass MSZoning  LotFrontage  LotArea Street Alley LotShape  \\\n",
       "0   1          60       RL         65.0     8450   Pave   NaN      Reg   \n",
       "1   2          20       RL         80.0     9600   Pave   NaN      Reg   \n",
       "2   3          60       RL         68.0    11250   Pave   NaN      IR1   \n",
       "3   4          70       RL         60.0     9550   Pave   NaN      IR1   \n",
       "4   5          60       RL         84.0    14260   Pave   NaN      IR1   \n",
       "\n",
       "  LandContour Utilities  ... PoolArea PoolQC Fence MiscFeature MiscVal MoSold  \\\n",
       "0         Lvl    AllPub  ...        0    NaN   NaN         NaN       0      2   \n",
       "1         Lvl    AllPub  ...        0    NaN   NaN         NaN       0      5   \n",
       "2         Lvl    AllPub  ...        0    NaN   NaN         NaN       0      9   \n",
       "3         Lvl    AllPub  ...        0    NaN   NaN         NaN       0      2   \n",
       "4         Lvl    AllPub  ...        0    NaN   NaN         NaN       0     12   \n",
       "\n",
       "  YrSold  SaleType  SaleCondition  SalePrice  \n",
       "0   2008        WD         Normal     208500  \n",
       "1   2007        WD         Normal     181500  \n",
       "2   2008        WD         Normal     223500  \n",
       "3   2006        WD        Abnorml     140000  \n",
       "4   2008        WD         Normal     250000  \n",
       "\n",
       "[5 rows x 81 columns]"
      ]
     },
     "execution_count": 3,
     "metadata": {},
     "output_type": "execute_result"
    }
   ],
   "source": [
    "df.head(5)"
   ]
  },
  {
   "cell_type": "code",
   "execution_count": 4,
   "id": "b4fd2652",
   "metadata": {
    "execution": {
     "iopub.execute_input": "2025-01-27T04:54:48.885577Z",
     "iopub.status.busy": "2025-01-27T04:54:48.885183Z",
     "iopub.status.idle": "2025-01-27T04:54:50.797489Z",
     "shell.execute_reply": "2025-01-27T04:54:50.796298Z"
    },
    "papermill": {
     "duration": 1.920121,
     "end_time": "2025-01-27T04:54:50.799492",
     "exception": false,
     "start_time": "2025-01-27T04:54:48.879371",
     "status": "completed"
    },
    "tags": []
   },
   "outputs": [],
   "source": [
    "import pandas as pd\n",
    "from sklearn.model_selection import train_test_split\n",
    "from sklearn.ensemble import RandomForestRegressor\n",
    "from sklearn.metrics import mean_squared_error\n",
    "import numpy as np"
   ]
  },
  {
   "cell_type": "markdown",
   "id": "1dd8c5cb",
   "metadata": {
    "papermill": {
     "duration": 0.004369,
     "end_time": "2025-01-27T04:54:50.808689",
     "exception": false,
     "start_time": "2025-01-27T04:54:50.804320",
     "status": "completed"
    },
    "tags": []
   },
   "source": [
    "## Load dataset"
   ]
  },
  {
   "cell_type": "code",
   "execution_count": 5,
   "id": "e82dbca8",
   "metadata": {
    "execution": {
     "iopub.execute_input": "2025-01-27T04:54:50.819426Z",
     "iopub.status.busy": "2025-01-27T04:54:50.818879Z",
     "iopub.status.idle": "2025-01-27T04:54:50.845184Z",
     "shell.execute_reply": "2025-01-27T04:54:50.843959Z"
    },
    "papermill": {
     "duration": 0.033704,
     "end_time": "2025-01-27T04:54:50.847104",
     "exception": false,
     "start_time": "2025-01-27T04:54:50.813400",
     "status": "completed"
    },
    "tags": []
   },
   "outputs": [],
   "source": [
    "file_path = '/kaggle/input/home-data-for-ml-course/train.csv'\n",
    "df = pd.read_csv(file_path)"
   ]
  },
  {
   "cell_type": "markdown",
   "id": "6b2e390f",
   "metadata": {
    "papermill": {
     "duration": 0.004358,
     "end_time": "2025-01-27T04:54:50.856219",
     "exception": false,
     "start_time": "2025-01-27T04:54:50.851861",
     "status": "completed"
    },
    "tags": []
   },
   "source": [
    "## pre_processing"
   ]
  },
  {
   "cell_type": "code",
   "execution_count": 6,
   "id": "1c97191b",
   "metadata": {
    "execution": {
     "iopub.execute_input": "2025-01-27T04:54:50.866791Z",
     "iopub.status.busy": "2025-01-27T04:54:50.866391Z",
     "iopub.status.idle": "2025-01-27T04:54:50.892107Z",
     "shell.execute_reply": "2025-01-27T04:54:50.890951Z"
    },
    "papermill": {
     "duration": 0.033298,
     "end_time": "2025-01-27T04:54:50.894136",
     "exception": false,
     "start_time": "2025-01-27T04:54:50.860838",
     "status": "completed"
    },
    "tags": []
   },
   "outputs": [],
   "source": [
    "#Drop columns with more than 50% missing values\n",
    "columns_to_drop = [col for col in df.columns if (df[col].isnull().sum() / df.shape[0]) * 100 > 50]\n",
    "df.drop(columns=columns_to_drop, inplace=True)"
   ]
  },
  {
   "cell_type": "markdown",
   "id": "8b908bf5",
   "metadata": {
    "papermill": {
     "duration": 0.004919,
     "end_time": "2025-01-27T04:54:50.903936",
     "exception": false,
     "start_time": "2025-01-27T04:54:50.899017",
     "status": "completed"
    },
    "tags": []
   },
   "source": [
    "## fill missing values "
   ]
  },
  {
   "cell_type": "code",
   "execution_count": 7,
   "id": "fe4ee597",
   "metadata": {
    "execution": {
     "iopub.execute_input": "2025-01-27T04:54:50.915036Z",
     "iopub.status.busy": "2025-01-27T04:54:50.914656Z",
     "iopub.status.idle": "2025-01-27T04:54:50.952413Z",
     "shell.execute_reply": "2025-01-27T04:54:50.951273Z"
    },
    "papermill": {
     "duration": 0.0455,
     "end_time": "2025-01-27T04:54:50.954507",
     "exception": false,
     "start_time": "2025-01-27T04:54:50.909007",
     "status": "completed"
    },
    "tags": []
   },
   "outputs": [],
   "source": [
    "#numerical columns\n",
    "\n",
    "numerical_cols = df.select_dtypes(include=['int64', 'float64']).columns\n",
    "df[numerical_cols] = df[numerical_cols].fillna(df[numerical_cols].median())\n",
    "# categorical columns\n",
    "categorical_cols = df.select_dtypes(include=['object']).columns\n",
    "df[categorical_cols] = df[categorical_cols].fillna('Unknown')\n"
   ]
  },
  {
   "cell_type": "code",
   "execution_count": 8,
   "id": "4ca5595f",
   "metadata": {
    "execution": {
     "iopub.execute_input": "2025-01-27T04:54:50.965879Z",
     "iopub.status.busy": "2025-01-27T04:54:50.965502Z",
     "iopub.status.idle": "2025-01-27T04:54:51.007740Z",
     "shell.execute_reply": "2025-01-27T04:54:51.006668Z"
    },
    "papermill": {
     "duration": 0.049916,
     "end_time": "2025-01-27T04:54:51.009648",
     "exception": false,
     "start_time": "2025-01-27T04:54:50.959732",
     "status": "completed"
    },
    "tags": []
   },
   "outputs": [],
   "source": [
    "#Encoded\n",
    "df = pd.get_dummies(df, columns=categorical_cols, drop_first=True)"
   ]
  },
  {
   "cell_type": "markdown",
   "id": "438a2521",
   "metadata": {
    "papermill": {
     "duration": 0.004261,
     "end_time": "2025-01-27T04:54:51.018803",
     "exception": false,
     "start_time": "2025-01-27T04:54:51.014542",
     "status": "completed"
    },
    "tags": []
   },
   "source": [
    "## Test_Train Spliting"
   ]
  },
  {
   "cell_type": "code",
   "execution_count": 9,
   "id": "d0022015",
   "metadata": {
    "execution": {
     "iopub.execute_input": "2025-01-27T04:54:51.029119Z",
     "iopub.status.busy": "2025-01-27T04:54:51.028728Z",
     "iopub.status.idle": "2025-01-27T04:54:51.037031Z",
     "shell.execute_reply": "2025-01-27T04:54:51.035991Z"
    },
    "papermill": {
     "duration": 0.015505,
     "end_time": "2025-01-27T04:54:51.038886",
     "exception": false,
     "start_time": "2025-01-27T04:54:51.023381",
     "status": "completed"
    },
    "tags": []
   },
   "outputs": [],
   "source": [
    "target = 'SalePrice'  # Target variable for this dataset\n",
    "X = df.drop(columns=[target])\n",
    "y = df[target]"
   ]
  },
  {
   "cell_type": "code",
   "execution_count": 10,
   "id": "fd82b564",
   "metadata": {
    "execution": {
     "iopub.execute_input": "2025-01-27T04:54:51.049780Z",
     "iopub.status.busy": "2025-01-27T04:54:51.049424Z",
     "iopub.status.idle": "2025-01-27T04:54:51.054222Z",
     "shell.execute_reply": "2025-01-27T04:54:51.053181Z"
    },
    "papermill": {
     "duration": 0.012232,
     "end_time": "2025-01-27T04:54:51.055966",
     "exception": false,
     "start_time": "2025-01-27T04:54:51.043734",
     "status": "completed"
    },
    "tags": []
   },
   "outputs": [],
   "source": [
    "assert X.select_dtypes(include=['object']).empty, \"There are still non-numeric columns in X\"\n"
   ]
  },
  {
   "cell_type": "code",
   "execution_count": 11,
   "id": "8b1f704a",
   "metadata": {
    "execution": {
     "iopub.execute_input": "2025-01-27T04:54:51.067370Z",
     "iopub.status.busy": "2025-01-27T04:54:51.066947Z",
     "iopub.status.idle": "2025-01-27T04:54:51.078628Z",
     "shell.execute_reply": "2025-01-27T04:54:51.077687Z"
    },
    "papermill": {
     "duration": 0.01959,
     "end_time": "2025-01-27T04:54:51.080665",
     "exception": false,
     "start_time": "2025-01-27T04:54:51.061075",
     "status": "completed"
    },
    "tags": []
   },
   "outputs": [],
   "source": [
    "# Split data into training and validation sets\n",
    "X_train, X_val, y_train, y_val = train_test_split(X, y, test_size=0.2, random_state=42)\n",
    "\n"
   ]
  },
  {
   "cell_type": "code",
   "execution_count": 12,
   "id": "7f95a67e",
   "metadata": {
    "execution": {
     "iopub.execute_input": "2025-01-27T04:54:51.091493Z",
     "iopub.status.busy": "2025-01-27T04:54:51.091126Z",
     "iopub.status.idle": "2025-01-27T04:54:53.862775Z",
     "shell.execute_reply": "2025-01-27T04:54:53.861537Z"
    },
    "papermill": {
     "duration": 2.779253,
     "end_time": "2025-01-27T04:54:53.864796",
     "exception": false,
     "start_time": "2025-01-27T04:54:51.085543",
     "status": "completed"
    },
    "tags": []
   },
   "outputs": [
    {
     "data": {
      "text/html": [
       "<style>#sk-container-id-1 {color: black;background-color: white;}#sk-container-id-1 pre{padding: 0;}#sk-container-id-1 div.sk-toggleable {background-color: white;}#sk-container-id-1 label.sk-toggleable__label {cursor: pointer;display: block;width: 100%;margin-bottom: 0;padding: 0.3em;box-sizing: border-box;text-align: center;}#sk-container-id-1 label.sk-toggleable__label-arrow:before {content: \"▸\";float: left;margin-right: 0.25em;color: #696969;}#sk-container-id-1 label.sk-toggleable__label-arrow:hover:before {color: black;}#sk-container-id-1 div.sk-estimator:hover label.sk-toggleable__label-arrow:before {color: black;}#sk-container-id-1 div.sk-toggleable__content {max-height: 0;max-width: 0;overflow: hidden;text-align: left;background-color: #f0f8ff;}#sk-container-id-1 div.sk-toggleable__content pre {margin: 0.2em;color: black;border-radius: 0.25em;background-color: #f0f8ff;}#sk-container-id-1 input.sk-toggleable__control:checked~div.sk-toggleable__content {max-height: 200px;max-width: 100%;overflow: auto;}#sk-container-id-1 input.sk-toggleable__control:checked~label.sk-toggleable__label-arrow:before {content: \"▾\";}#sk-container-id-1 div.sk-estimator input.sk-toggleable__control:checked~label.sk-toggleable__label {background-color: #d4ebff;}#sk-container-id-1 div.sk-label input.sk-toggleable__control:checked~label.sk-toggleable__label {background-color: #d4ebff;}#sk-container-id-1 input.sk-hidden--visually {border: 0;clip: rect(1px 1px 1px 1px);clip: rect(1px, 1px, 1px, 1px);height: 1px;margin: -1px;overflow: hidden;padding: 0;position: absolute;width: 1px;}#sk-container-id-1 div.sk-estimator {font-family: monospace;background-color: #f0f8ff;border: 1px dotted black;border-radius: 0.25em;box-sizing: border-box;margin-bottom: 0.5em;}#sk-container-id-1 div.sk-estimator:hover {background-color: #d4ebff;}#sk-container-id-1 div.sk-parallel-item::after {content: \"\";width: 100%;border-bottom: 1px solid gray;flex-grow: 1;}#sk-container-id-1 div.sk-label:hover label.sk-toggleable__label {background-color: #d4ebff;}#sk-container-id-1 div.sk-serial::before {content: \"\";position: absolute;border-left: 1px solid gray;box-sizing: border-box;top: 0;bottom: 0;left: 50%;z-index: 0;}#sk-container-id-1 div.sk-serial {display: flex;flex-direction: column;align-items: center;background-color: white;padding-right: 0.2em;padding-left: 0.2em;position: relative;}#sk-container-id-1 div.sk-item {position: relative;z-index: 1;}#sk-container-id-1 div.sk-parallel {display: flex;align-items: stretch;justify-content: center;background-color: white;position: relative;}#sk-container-id-1 div.sk-item::before, #sk-container-id-1 div.sk-parallel-item::before {content: \"\";position: absolute;border-left: 1px solid gray;box-sizing: border-box;top: 0;bottom: 0;left: 50%;z-index: -1;}#sk-container-id-1 div.sk-parallel-item {display: flex;flex-direction: column;z-index: 1;position: relative;background-color: white;}#sk-container-id-1 div.sk-parallel-item:first-child::after {align-self: flex-end;width: 50%;}#sk-container-id-1 div.sk-parallel-item:last-child::after {align-self: flex-start;width: 50%;}#sk-container-id-1 div.sk-parallel-item:only-child::after {width: 0;}#sk-container-id-1 div.sk-dashed-wrapped {border: 1px dashed gray;margin: 0 0.4em 0.5em 0.4em;box-sizing: border-box;padding-bottom: 0.4em;background-color: white;}#sk-container-id-1 div.sk-label label {font-family: monospace;font-weight: bold;display: inline-block;line-height: 1.2em;}#sk-container-id-1 div.sk-label-container {text-align: center;}#sk-container-id-1 div.sk-container {/* jupyter's `normalize.less` sets `[hidden] { display: none; }` but bootstrap.min.css set `[hidden] { display: none !important; }` so we also need the `!important` here to be able to override the default hidden behavior on the sphinx rendered scikit-learn.org. See: https://github.com/scikit-learn/scikit-learn/issues/21755 */display: inline-block !important;position: relative;}#sk-container-id-1 div.sk-text-repr-fallback {display: none;}</style><div id=\"sk-container-id-1\" class=\"sk-top-container\"><div class=\"sk-text-repr-fallback\"><pre>RandomForestRegressor(random_state=42)</pre><b>In a Jupyter environment, please rerun this cell to show the HTML representation or trust the notebook. <br />On GitHub, the HTML representation is unable to render, please try loading this page with nbviewer.org.</b></div><div class=\"sk-container\" hidden><div class=\"sk-item\"><div class=\"sk-estimator sk-toggleable\"><input class=\"sk-toggleable__control sk-hidden--visually\" id=\"sk-estimator-id-1\" type=\"checkbox\" checked><label for=\"sk-estimator-id-1\" class=\"sk-toggleable__label sk-toggleable__label-arrow\">RandomForestRegressor</label><div class=\"sk-toggleable__content\"><pre>RandomForestRegressor(random_state=42)</pre></div></div></div></div></div>"
      ],
      "text/plain": [
       "RandomForestRegressor(random_state=42)"
      ]
     },
     "execution_count": 12,
     "metadata": {},
     "output_type": "execute_result"
    }
   ],
   "source": [
    "Rf = RandomForestRegressor(n_estimators=100, random_state=42)\n",
    "Rf.fit(X_train, y_train)"
   ]
  },
  {
   "cell_type": "code",
   "execution_count": 13,
   "id": "103b37a7",
   "metadata": {
    "execution": {
     "iopub.execute_input": "2025-01-27T04:54:53.876333Z",
     "iopub.status.busy": "2025-01-27T04:54:53.875928Z",
     "iopub.status.idle": "2025-01-27T04:54:53.880314Z",
     "shell.execute_reply": "2025-01-27T04:54:53.879181Z"
    },
    "papermill": {
     "duration": 0.01234,
     "end_time": "2025-01-27T04:54:53.882284",
     "exception": false,
     "start_time": "2025-01-27T04:54:53.869944",
     "status": "completed"
    },
    "tags": []
   },
   "outputs": [],
   "source": [
    "from sklearn.metrics import mean_squared_error, mean_absolute_error, r2_score"
   ]
  },
  {
   "cell_type": "code",
   "execution_count": 14,
   "id": "944ea7b5",
   "metadata": {
    "execution": {
     "iopub.execute_input": "2025-01-27T04:54:53.893519Z",
     "iopub.status.busy": "2025-01-27T04:54:53.893166Z",
     "iopub.status.idle": "2025-01-27T04:54:53.917968Z",
     "shell.execute_reply": "2025-01-27T04:54:53.916760Z"
    },
    "papermill": {
     "duration": 0.032194,
     "end_time": "2025-01-27T04:54:53.919663",
     "exception": false,
     "start_time": "2025-01-27T04:54:53.887469",
     "status": "completed"
    },
    "tags": []
   },
   "outputs": [
    {
     "name": "stdout",
     "output_type": "stream",
     "text": [
      "Root Mean Squared Error (RMSE): 29311.513541784003\n",
      "Mean Absolute Error (MAE): 17687.96\n",
      "R^2 Score: 0.89\n"
     ]
    }
   ],
   "source": [
    "y_pred = Rf.predict(X_val)\n",
    "rmse = np.sqrt(mean_squared_error(y_val, y_pred))\n",
    "print(f\"Root Mean Squared Error (RMSE): {rmse}\")\n",
    "mae = mean_absolute_error(y_val, y_pred)          \n",
    "r2 = r2_score(y_val, y_pred)   \n",
    "print(f\"Mean Absolute Error (MAE): {mae:.2f}\")\n",
    "print(f\"R^2 Score: {r2:.2f}\")"
   ]
  },
  {
   "cell_type": "code",
   "execution_count": 15,
   "id": "8e1d89e3",
   "metadata": {
    "execution": {
     "iopub.execute_input": "2025-01-27T04:54:53.931060Z",
     "iopub.status.busy": "2025-01-27T04:54:53.930684Z",
     "iopub.status.idle": "2025-01-27T04:54:54.529537Z",
     "shell.execute_reply": "2025-01-27T04:54:54.528275Z"
    },
    "papermill": {
     "duration": 0.606465,
     "end_time": "2025-01-27T04:54:54.531204",
     "exception": false,
     "start_time": "2025-01-27T04:54:53.924739",
     "status": "completed"
    },
    "tags": []
   },
   "outputs": [
    {
     "name": "stdout",
     "output_type": "stream",
     "text": [
      "Mean Absolute Error: 23740.979228636657\n",
      "Submission file saved as submission.csv\n"
     ]
    }
   ],
   "source": [
    "import pandas as pd\n",
    "from sklearn.model_selection import train_test_split\n",
    "from sklearn.ensemble import RandomForestRegressor\n",
    "from sklearn.metrics import mean_absolute_error\n",
    "# Load the dataset\n",
    "file_path = '../input/home-data-for-ml-course/train.csv'  # Adjust path as needed\n",
    "data = pd.read_csv(file_path)\n",
    "# Select target and features\n",
    "y = data['SalePrice']\n",
    "features = ['LotArea', 'YearBuilt', '1stFlrSF', '2ndFlrSF', 'FullBath', 'BedroomAbvGr', 'TotRmsAbvGrd']\n",
    "X = data[features]\n",
    "# Split data into training and validation datasets\n",
    "X_train, X_valid, y_train, y_valid = train_test_split(X, y, train_size=0.8, test_size=0.2, random_state=0)\n",
    "\n",
    "# Define the model\n",
    "model = RandomForestRegressor(random_state=0)\n",
    "# Fit the model\n",
    "model.fit(X_train, y_train)\n",
    "\n",
    "# Get predictions\n",
    "preds = model.predict(X_valid)\n",
    "\n",
    "# Calculate the mean absolute error\n",
    "mae = mean_absolute_error(y_valid, preds)\n",
    "print(f\"Mean Absolute Error: {mae}\")\n",
    "\n",
    "# Prepare test data for submission\n",
    "test_data = pd.read_csv('../input/home-data-for-ml-course/test.csv')  # Adjust path as needed\n",
    "X_test = test_data[features]\n",
    "\n",
    "test_preds = model.predict(X_test)\n",
    "\n",
    "# Create a DataFrame for submission\n",
    "output = pd.DataFrame({'Id': test_data.Id, 'SalePrice': test_preds})\n",
    "output.to_csv('submission.csv', index=False)\n",
    "print(\"Submission file saved as submission.csv\")"
   ]
  },
  {
   "cell_type": "code",
   "execution_count": null,
   "id": "bbbbe3ad",
   "metadata": {
    "papermill": {
     "duration": 0.004677,
     "end_time": "2025-01-27T04:54:54.541083",
     "exception": false,
     "start_time": "2025-01-27T04:54:54.536406",
     "status": "completed"
    },
    "tags": []
   },
   "outputs": [],
   "source": []
  }
 ],
 "metadata": {
  "kaggle": {
   "accelerator": "none",
   "dataSources": [
    {
     "databundleVersionId": 111096,
     "sourceId": 10211,
     "sourceType": "competition"
    }
   ],
   "dockerImageVersionId": 30822,
   "isGpuEnabled": false,
   "isInternetEnabled": false,
   "language": "python",
   "sourceType": "notebook"
  },
  "kernelspec": {
   "display_name": "Python 3",
   "language": "python",
   "name": "python3"
  },
  "language_info": {
   "codemirror_mode": {
    "name": "ipython",
    "version": 3
   },
   "file_extension": ".py",
   "mimetype": "text/x-python",
   "name": "python",
   "nbconvert_exporter": "python",
   "pygments_lexer": "ipython3",
   "version": "3.10.12"
  },
  "papermill": {
   "default_parameters": {},
   "duration": 10.386135,
   "end_time": "2025-01-27T04:54:55.266575",
   "environment_variables": {},
   "exception": null,
   "input_path": "__notebook__.ipynb",
   "output_path": "__notebook__.ipynb",
   "parameters": {},
   "start_time": "2025-01-27T04:54:44.880440",
   "version": "2.6.0"
  }
 },
 "nbformat": 4,
 "nbformat_minor": 5
}
